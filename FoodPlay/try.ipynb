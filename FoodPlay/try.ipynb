{
 "cells": [
  {
   "cell_type": "code",
   "execution_count": 1,
   "metadata": {},
   "outputs": [],
   "source": [
    "import helper_functions as hf\n",
    "import numpy as np\n",
    "import pandas as pd"
   ]
  },
  {
   "cell_type": "code",
   "execution_count": 2,
   "metadata": {},
   "outputs": [],
   "source": [
    "db = hf.create_nutrients_df()"
   ]
  },
  {
   "cell_type": "code",
   "execution_count": 3,
   "metadata": {},
   "outputs": [
    {
     "data": {
      "text/plain": [
       "Index(['Life-Stage Group', 'Vitamin A_RDA (µg/d)', 'Vitamin C_RDA (mg/d)',\n",
       "       'Vitamin D_RDA (µg/d)', 'Vitamin E_RDA (mg/d)', 'Vitamin K_RDA (µg/d)',\n",
       "       'Thiamin_RDA (mg/d)', 'Riboflavin_RDA (mg/d)', 'Niacin_RDA (mg/d)',\n",
       "       'Vitamin B6_RDA (mg/d)', 'Folate_RDA (µg/d)', 'Vitamin B12_RDA (µg/d)',\n",
       "       'Vitamin A_UL (µg/d)', 'Vitamin C_UL (mg/d)', 'Vitamin D_UL (µg/d)',\n",
       "       'Vitamin E_UL (mg/d)', 'Vitamin K_UL (µg/d)', 'Thiamin_UL (mg/d)',\n",
       "       'Riboflavin_UL (mg/d)', 'Niacin_UL (mg/d)', 'Vitamin B6_UL (mg/d)',\n",
       "       'Folate_UL (µg/d)', 'VitB12_UL (µg/d)', 'Calcium_RDA (mg/d)',\n",
       "       'Copper_RDA (µg/d)', 'Iodine_RDA (µg/d)', 'Iron_RDA (mg/d)',\n",
       "       'Magnesium_RDA (mg/d)', 'Manganese_RDA (mg/d)', 'Phosphorus_RDA (mg/d)',\n",
       "       'Selenium_RDA (µg/d)', 'Zinc_RDA (mg/d)', 'Potassium_RDA (mg/d)',\n",
       "       'Sodium_RDA (mg/d)', 'Calcium_UL (mg/d)', 'Copper_UL (µg/d)',\n",
       "       'Iodine_UL (µg/d)', 'Iron_UL (mg/d)', 'Magnesium_UL (mg/d)',\n",
       "       'Manganese_UL (mg/d)', 'Phosphorus_UL (mg/d)', 'Potassium_UL (mg/d)',\n",
       "       'Selenium_UL (µg/d)', 'Zinc_UL (mg/d)', 'Sodium_UL (mg/d)'],\n",
       "      dtype='object')"
      ]
     },
     "execution_count": 3,
     "metadata": {},
     "output_type": "execute_result"
    }
   ],
   "source": [
    "db.columns"
   ]
  }
 ],
 "metadata": {
  "kernelspec": {
   "display_name": "Python 3",
   "language": "python",
   "name": "python3"
  },
  "language_info": {
   "codemirror_mode": {
    "name": "ipython",
    "version": 3
   },
   "file_extension": ".py",
   "mimetype": "text/x-python",
   "name": "python",
   "nbconvert_exporter": "python",
   "pygments_lexer": "ipython3",
   "version": "3.12.3"
  }
 },
 "nbformat": 4,
 "nbformat_minor": 2
}
